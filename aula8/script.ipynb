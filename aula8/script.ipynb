{
 "cells": [
  {
   "cell_type": "markdown",
   "id": "33af9725",
   "metadata": {},
   "source": [
    "Markdown -> Texto explicativo\n",
    "\n",
    "Criar tabela"
   ]
  },
  {
   "cell_type": "code",
   "execution_count": null,
   "id": "843178f8",
   "metadata": {},
   "outputs": [],
   "source": [
    "import sqlite3\n",
    "\n",
    "# criar conexao\n",
    "conn = sqlite3.connect('alunos.db')\n",
    "cursor = conn.cursor()\n",
    "\n",
    "# criar tabela\n",
    "cursor.execute('''\n",
    "CREATE TABLE IF NOT EXISTS alunos (\n",
    "    id INTEGER PRIMARY KEY AUTOINCREMENT,\n",
    "    nome TEXT,\n",
    "    nota REAL\n",
    ")\n",
    "''')\n",
    "\n",
    "conn.commit()\n",
    "conn.close()"
   ]
  },
  {
   "cell_type": "markdown",
   "id": "4a26a954",
   "metadata": {},
   "source": [
    "Inserindo Registros"
   ]
  },
  {
   "cell_type": "code",
   "execution_count": null,
   "id": "58b73584",
   "metadata": {},
   "outputs": [],
   "source": [
    "import sqlite3\n",
    "\n",
    "conn = sqlite3.connect('alunos.db')\n",
    "cursor = conn.cursor()\n",
    "\n",
    "#dados\n",
    "dados = [\n",
    "    ('Mariana', 10.0)\n",
    "    ('Arthur', 5.0)\n",
    "    ('Andre', 8.9)\n",
    "    ('Laryssa', 7.6)\n",
    "]\n",
    "\n",
    "# Inserindo dados\n",
    "cursor.executemany('INSERT INTO alunos (nome, nota) VALUES (?, ?)', dados)\n",
    "\n",
    "conn.commit()\n",
    "conn.close()"
   ]
  },
  {
   "cell_type": "markdown",
   "id": "d3e49ba4",
   "metadata": {},
   "source": [
    "Deletando um usuario"
   ]
  },
  {
   "cell_type": "code",
   "execution_count": null,
   "id": "81b101ce",
   "metadata": {},
   "outputs": [],
   "source": [
    "import sqlite3\n",
    "\n",
    "conn = sqlite3.connect('alunos.db')\n",
    "cursor = conn.cursor()\n",
    "\n",
    "# deletando aluno que tem ID 1 \n",
    "cursor.execute('DELETE FROM alunos WHERE id = ?', (1, ))\n",
    "\n",
    "conn.commit()\n",
    "conn.close()"
   ]
  },
  {
   "cell_type": "markdown",
   "id": "c36ee5b1",
   "metadata": {},
   "source": [
    "Selecionando alunos para visualizar"
   ]
  },
  {
   "cell_type": "code",
   "execution_count": null,
   "id": "79a2cc23",
   "metadata": {},
   "outputs": [],
   "source": [
    "import sqlite3\n",
    "\n",
    "conn = sqlite3.connect('alunos.db')\n",
    "cursor = conn.cursor()\n",
    "\n",
    "cursor.execute('SELECT * FROM alunos')\n",
    "dados = cursor.fetchall() #executar consulta\n",
    "\n",
    "for linha in dados:\n",
    "    print(linha)"
   ]
  }
 ],
 "metadata": {
  "language_info": {
   "name": "python"
  }
 },
 "nbformat": 4,
 "nbformat_minor": 5
}
